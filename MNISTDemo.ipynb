{
  "nbformat": 4,
  "nbformat_minor": 0,
  "metadata": {
    "colab": {
      "name": "MNISTDemo.ipynb",
      "version": "0.3.2",
      "provenance": [],
      "collapsed_sections": []
    },
    "kernelspec": {
      "name": "python3",
      "display_name": "Python 3"
    }
  },
  "cells": [
    {
      "metadata": {
        "id": "XyuCyUE4wpOW",
        "colab_type": "text"
      },
      "cell_type": "markdown",
      "source": [
        "Tensorflow demo to train a neural network to classify digits"
      ]
    },
    {
      "metadata": {
        "id": "3h90Pfoku4F2",
        "colab_type": "code",
        "outputId": "32e39cd3-5275-4507-dbf9-666fe09b646e",
        "colab": {
          "base_uri": "https://localhost:8080/",
          "height": 68
        }
      },
      "cell_type": "code",
      "source": [
        "import tensorflow as tf\n",
        "import math\n",
        "import numpy as np\n",
        "import h5py\n",
        "import matplotlib.pyplot as plt\n",
        "import tensorflow as tf\n",
        "from tensorflow.python.framework import ops\n",
        "\n",
        "mnist = tf.keras.datasets.mnist\n",
        "\n",
        "(x_train, y_train), (x_test, y_test) = mnist.load_data()\n",
        "x_train, x_test = x_train / 255.0, x_test / 255.0\n",
        "m = x_train.shape[0] # m is the total number of samples\n",
        "\n",
        "print(\"m = \" + str(m))\n",
        "\n",
        "print(\"Shape of training data x_train: \" + str(x_train.shape) + \" y_train : \" + str(y_train.shape))\n",
        "print(\"Shape of test data : \" + str(x_test.shape))"
      ],
      "execution_count": 87,
      "outputs": [
        {
          "output_type": "stream",
          "text": [
            "m = 60000\n",
            "Shape of training data x_train: (60000, 28, 28) y_train : (60000,)\n",
            "Shape of test data : (10000, 28, 28)\n"
          ],
          "name": "stdout"
        }
      ]
    },
    {
      "metadata": {
        "id": "TJI_Xxzsw2a3",
        "colab_type": "text"
      },
      "cell_type": "markdown",
      "source": [
        "Print some random digits"
      ]
    },
    {
      "metadata": {
        "id": "-8PS1hkjv_UG",
        "colab_type": "code",
        "colab": {
          "base_uri": "https://localhost:8080/",
          "height": 282
        },
        "outputId": "6105aeaf-fa7e-4f51-b6d9-95c07bbc75f7"
      },
      "cell_type": "code",
      "source": [
        "%matplotlib inline\n",
        "import matplotlib\n",
        "import matplotlib.pyplot as plt\n",
        "\n",
        "digit_index = 729\n",
        "some_digit = x_train[digit_index]\n",
        "\n",
        "plt.imshow(some_digit, cmap = matplotlib.cm.binary, interpolation=\"nearest\")\n",
        "#plt.axis(\"off\")\n",
        "plt.show()\n",
        "\n",
        "print(\"Y Label : \" + str(y_train[digit_index]))"
      ],
      "execution_count": 88,
      "outputs": [
        {
          "output_type": "display_data",
          "data": {
            "image/png": "[encoded data removed]",
            "text/plain": [
              "<matplotlib.figure.Figure at 0x7f53c8b62fd0>"
            ]
          },
          "metadata": {
            "tags": []
          }
        },
        {
          "output_type": "stream",
          "text": [
            "Y Label : 4\n"
          ],
          "name": "stdout"
        }
      ]
    },
    {
      "metadata": {
        "id": "xPsivn9C9ytg",
        "colab_type": "text"
      },
      "cell_type": "markdown",
      "source": [
        "Flatten the 2D images to 1D array"
      ]
    },
    {
      "metadata": {
        "id": "SPPKUvC-2WY5",
        "colab_type": "code",
        "colab": {
          "base_uri": "https://localhost:8080/",
          "height": 51
        },
        "outputId": "4a9bef51-fc31-4b3a-da8e-21b65e5e3f21"
      },
      "cell_type": "code",
      "source": [
        "# Flatten the images from 2D to 1D\n",
        "X_train_flatten = x_train.reshape(x_train.shape[0], -1).T\n",
        "X_test_flatten = x_test.reshape(x_test.shape[0], -1).T\n",
        "print(\"X_train_flatten shape = \" + str(X_train_flatten.shape))\n",
        "print(\"X_test_flatten shape = \" + str(X_test_flatten.shape))"
      ],
      "execution_count": 89,
      "outputs": [
        {
          "output_type": "stream",
          "text": [
            "X_train_flatten shape = (784, 60000)\n",
            "X_test_flatten shape = (784, 10000)\n"
          ],
          "name": "stdout"
        }
      ]
    },
    {
      "metadata": {
        "id": "5b-PMt5Awn1n",
        "colab_type": "text"
      },
      "cell_type": "markdown",
      "source": [
        "Convert class label y to one hot vectors"
      ]
    },
    {
      "metadata": {
        "id": "r8gBexZu4CG1",
        "colab_type": "code",
        "colab": {}
      },
      "cell_type": "code",
      "source": [
        "# Convert each label to a vector of total_classes where only one index that corresponds to the label is one.\n",
        "# Each label vector is a column vector\n",
        "def one_hot_matrix(labels):\n",
        "    \n",
        "    # There are total 10 digits, thus, C that corresponds to total number of classes is 10\n",
        "    C = tf.constant(10, name=\"C\")\n",
        "    one_hot_matrix = tf.one_hot(indices=labels, depth=C, axis=0)\n",
        "    \n",
        "    sess = tf.Session()\n",
        "    one_hot = sess.run(one_hot_matrix) \n",
        "    sess.close()\n",
        "\n",
        "    return one_hot"
      ],
      "execution_count": 0,
      "outputs": []
    },
    {
      "metadata": {
        "id": "vND2xVzr4Rnd",
        "colab_type": "code",
        "colab": {
          "base_uri": "https://localhost:8080/",
          "height": 51
        },
        "outputId": "63f46a21-43ae-449c-8d29-8f72481dc3c7"
      },
      "cell_type": "code",
      "source": [
        "# Convert y-labels to 1 hot representation\n",
        "\n",
        "y_train_onehot = one_hot_matrix(y_train)\n",
        "y_test_onehot = one_hot_matrix(y_test)\n",
        "\n",
        "print(\"Shape of y_train_onehot : \" + str(y_train_onehot.shape))\n",
        "print(\"Shape of y_test_onehot : \" + str(y_test_onehot.shape))"
      ],
      "execution_count": 91,
      "outputs": [
        {
          "output_type": "stream",
          "text": [
            "Shape of y_train_onehot : (10, 60000)\n",
            "Shape of y_test_onehot : (10, 10000)\n"
          ],
          "name": "stdout"
        }
      ]
    },
    {
      "metadata": {
        "id": "BOJ3A7GT2qOB",
        "colab_type": "code",
        "colab": {}
      },
      "cell_type": "code",
      "source": [
        "def create_placeholders(n_x, n_y):\n",
        "    \"\"\"\n",
        "    Creates the placeholders for the tensorflow session.\n",
        "    \n",
        "    Arguments:\n",
        "    n_x -- scalar, size of an image vector (num_px * num_px = 64 * 64 = 784)\n",
        "    n_y -- scalar, number of classes (from 0 to 9, so -> 10)\n",
        "    \n",
        "    Returns:\n",
        "    X -- placeholder for the data input, of shape [n_x, None] and dtype \"float\"\n",
        "    Y -- placeholder for the input labels, of shape [n_y, None] and dtype \"float\"\n",
        "    \n",
        "    Tips:\n",
        "    - You will use None because it let's us be flexible on the number of examples you will for the placeholders.\n",
        "      In fact, the number of examples during test/train is different.\n",
        "    \"\"\"\n",
        "\n",
        "    ### START CODE HERE ### (approx. 2 lines)\n",
        "    X = tf.placeholder(tf.float32, shape = (n_x, None))\n",
        "    Y = tf.placeholder(tf.float32, shape = (n_y, None))\n",
        "    ### END CODE HERE ###\n",
        "    \n",
        "    return X, Y"
      ],
      "execution_count": 0,
      "outputs": []
    },
    {
      "metadata": {
        "id": "jMDgdFSywDs_",
        "colab_type": "code",
        "colab": {}
      },
      "cell_type": "code",
      "source": [
        "# Initializes the parameters for the Neural network\n",
        "# The neural network has 2 hidden layers with 25 nodes in the first layer and 12 nodes in the second layer\n",
        "# The output layer has 10 nodes corresponding to the 10 output classes\n",
        "def initialize_parameters():\n",
        "    \n",
        "    tf.set_random_seed(7)\n",
        "    \n",
        "    W1 = tf.get_variable(\"W1\", shape=[25, 784], initializer = tf.contrib.layers.xavier_initializer())\n",
        "    b1 = tf.get_variable(\"b1\", [25, 1], initializer=tf.zeros_initializer())\n",
        "    W2 = tf.get_variable(\"W2\", [12, 25], initializer=tf.contrib.layers.xavier_initializer(seed = 1))\n",
        "    b2 = tf.get_variable(\"b2\", [12, 1], initializer=tf.zeros_initializer())\n",
        "    W3 = tf.get_variable(\"W3\", [10, 12], initializer = tf.contrib.layers.xavier_initializer(seed = 1))\n",
        "    b3 = tf.get_variable(\"b3\", [10,1], initializer = tf.zeros_initializer())\n",
        "    \n",
        "    parameters = {\n",
        "        \"W1\": W1,\n",
        "        \"b1\": b1,\n",
        "        \"W2\": W2,\n",
        "        \"b2\": b2,\n",
        "        \"W3\": W3,\n",
        "        \"b3\": b3\n",
        "    }\n",
        "    \n",
        "    return parameters"
      ],
      "execution_count": 0,
      "outputs": []
    },
    {
      "metadata": {
        "id": "vCv5EZuIxzvS",
        "colab_type": "text"
      },
      "cell_type": "markdown",
      "source": [
        "Predict against a random sample"
      ]
    },
    {
      "metadata": {
        "id": "c2o_dJaCvEDj",
        "colab_type": "code",
        "colab": {}
      },
      "cell_type": "code",
      "source": [
        "# Implements the forward propagation in the neural network.\n",
        "# For the 2 hidden layers, RELU is the activation function.\n",
        "# For the output layer, there's no activation function. \n",
        "# Actually, there's sigmoid function, but taken care of in the cost calculation\n",
        "def forward_propagation(X, parameters):\n",
        "    \n",
        "    W1 = parameters['W1']\n",
        "    b1 = parameters['b1']\n",
        "    W2 = parameters['W2']\n",
        "    b2 = parameters['b2']\n",
        "    W3 = parameters['W3']\n",
        "    b3 = parameters['b3']\n",
        "    \n",
        "    Z1 = tf.add(tf.matmul(W1, X), b1)\n",
        "    A1 = tf.nn.relu(Z1)\n",
        "    Z2 = tf.add(tf.matmul(W2, Z1), b2)\n",
        "    A2 = tf.nn.relu(Z2)\n",
        "    Z3 = tf.add(tf.matmul(W3, Z2), b3)\n",
        "    \n",
        "    return Z3"
      ],
      "execution_count": 0,
      "outputs": []
    },
    {
      "metadata": {
        "id": "HHvg2wCkvAZk",
        "colab_type": "code",
        "colab": {}
      },
      "cell_type": "code",
      "source": [
        "# For the output layer, we use softmax activation function and calculate the overall cost.\n",
        "# Z3 is the output from the last hidden layer\n",
        "# Y is the \"true\" labels vector placeholder\n",
        "def calculate_cost(Z3, Y):\n",
        "    \n",
        "    # Tensorflow expects the shape to be (num_examples, num_classes)\n",
        "    # Hence, we need to transpose these two\n",
        "    labels = tf.transpose(Y) # These correspond to y\n",
        "    logits = tf.transpose(Z3) # These correspond to Z\n",
        "    \n",
        "    cost = tf.reduce_mean(tf.nn.softmax_cross_entropy_with_logits(logits = logits, labels = labels))\n",
        "    \n",
        "    return cost"
      ],
      "execution_count": 0,
      "outputs": []
    },
    {
      "metadata": {
        "id": "fNsamSWG61OI",
        "colab_type": "code",
        "colab": {
          "base_uri": "https://localhost:8080/",
          "height": 34
        },
        "outputId": "8e47fa3a-a17f-46fe-b3a3-15ff020583a5"
      },
      "cell_type": "code",
      "source": [
        "tf.reset_default_graph()\n",
        "\n",
        "with tf.Session() as sess:\n",
        "    X, Y = create_placeholders(784, 10)\n",
        "    parameters = initialize_parameters()\n",
        "    Z3 = forward_propagation(X, parameters)\n",
        "    cost = calculate_cost(Z3, Y)\n",
        "    print(\"cost = \" + str(cost))"
      ],
      "execution_count": 96,
      "outputs": [
        {
          "output_type": "stream",
          "text": [
            "cost = Tensor(\"Mean:0\", shape=(), dtype=float32)\n"
          ],
          "name": "stdout"
        }
      ]
    },
    {
      "metadata": {
        "id": "iqMLhnk-75LL",
        "colab_type": "code",
        "colab": {}
      },
      "cell_type": "code",
      "source": [
        "def random_mini_batches(X, Y, mini_batch_size = 64, seed = 0):\n",
        "    \"\"\"\n",
        "    Creates a list of random minibatches from (X, Y)\n",
        "    \n",
        "    Arguments:\n",
        "    X -- input data, of shape (input size, number of examples)\n",
        "    Y -- true \"label\" vector (containing 0 if cat, 1 if non-cat), of shape (1, number of examples)\n",
        "    mini_batch_size - size of the mini-batches, integer\n",
        "    seed -- this is only for the purpose of grading, so that you're \"random minibatches are the same as ours.\n",
        "    \n",
        "    Returns:\n",
        "    mini_batches -- list of synchronous (mini_batch_X, mini_batch_Y)\n",
        "    \"\"\"\n",
        "    \n",
        "    m = X.shape[1]                  # number of training examples\n",
        "    mini_batches = []\n",
        "    np.random.seed(seed)\n",
        "    \n",
        "    # Step 1: Shuffle (X, Y)\n",
        "    permutation = list(np.random.permutation(m))\n",
        "    shuffled_X = X[:, permutation]\n",
        "    shuffled_Y = Y[:, permutation].reshape((Y.shape[0],m))\n",
        "\n",
        "    # Step 2: Partition (shuffled_X, shuffled_Y). Minus the end case.\n",
        "    num_complete_minibatches = math.floor(m/mini_batch_size) # number of mini batches of size mini_batch_size in your partitionning\n",
        "    for k in range(0, num_complete_minibatches):\n",
        "        mini_batch_X = shuffled_X[:, k * mini_batch_size : k * mini_batch_size + mini_batch_size]\n",
        "        mini_batch_Y = shuffled_Y[:, k * mini_batch_size : k * mini_batch_size + mini_batch_size]\n",
        "        mini_batch = (mini_batch_X, mini_batch_Y)\n",
        "        mini_batches.append(mini_batch)\n",
        "    \n",
        "    # Handling the end case (last mini-batch < mini_batch_size)\n",
        "    if m % mini_batch_size != 0:\n",
        "        mini_batch_X = shuffled_X[:, num_complete_minibatches * mini_batch_size : m]\n",
        "        mini_batch_Y = shuffled_Y[:, num_complete_minibatches * mini_batch_size : m]\n",
        "        mini_batch = (mini_batch_X, mini_batch_Y)\n",
        "        mini_batches.append(mini_batch)\n",
        "    \n",
        "    return mini_batches"
      ],
      "execution_count": 0,
      "outputs": []
    },
    {
      "metadata": {
        "id": "jSfnGQXv5PmY",
        "colab_type": "code",
        "colab": {}
      },
      "cell_type": "code",
      "source": [
        "# Now we build the main neural network using the previously built functions\n",
        "\n",
        "def model(X_train, Y_train, X_test, Y_test, learning_rate=0.0001,\n",
        "         num_epochs = 200, minibatch_size=32, print_cost=True):\n",
        "    \n",
        "    ops.reset_default_graph()\n",
        "    \n",
        "    tf.set_random_seed(7)\n",
        "    seed = 3\n",
        "    (n_x, m) = X_train.shape # Get the number of features and training samples\n",
        "    n_y = Y_train.shape[0]\n",
        "    \n",
        "    costs = [] # To keep track of the costs\n",
        "    \n",
        "    # Create placeholders for X and Y\n",
        "    X, Y = create_placeholders(n_x, n_y)\n",
        "    \n",
        "    # Initialize the W and b parameters for all the layers\n",
        "    parameters = initialize_parameters()\n",
        "    \n",
        "    # Forward propagation\n",
        "    Z3 = forward_propagation(X, parameters)\n",
        "    \n",
        "    # Calcualte the cost in forward propagation\n",
        "    cost = calculate_cost(Z3, Y)\n",
        "    \n",
        "    # Backpropagation: Define the tensorflow optimizer. Use an AdamOptimizer.\n",
        "    optimizer = tf.train.AdamOptimizer(learning_rate = learning_rate).minimize(cost)\n",
        "    \n",
        "    # Initialize all the variables\n",
        "    init = tf.global_variables_initializer()\n",
        "    \n",
        "    # Start the tensorflow session\n",
        "    with tf.Session() as sess:\n",
        "        \n",
        "        # Run the initialization\n",
        "        sess.run(init)\n",
        "        \n",
        "        for epoch in range(num_epochs):\n",
        "            \n",
        "            epoch_cost = 0\n",
        "            num_minibatches = int(m / minibatch_size) # number of minibatches of size minibatch_size in the train set\n",
        "            seed = seed + 1\n",
        "            minibatches = random_mini_batches(X_train, Y_train, minibatch_size, seed)\n",
        "\n",
        "            for minibatch in minibatches:\n",
        "\n",
        "                # Select a minibatch\n",
        "                (minibatch_X, minibatch_Y) = minibatch\n",
        "                \n",
        "                # IMPORTANT: The line that runs the graph on a minibatch.\n",
        "                # Run the session to execute the \"optimizer\" and the \"cost\", the feedict should contain a minibatch for (X,Y).\n",
        "                ### START CODE HERE ### (1 line)\n",
        "                _ , minibatch_cost = sess.run([optimizer, cost], feed_dict={X: minibatch_X, Y: minibatch_Y})\n",
        "                ### END CODE HERE ###\n",
        "                \n",
        "                epoch_cost += minibatch_cost / num_minibatches\n",
        "\n",
        "            # Print the cost every epoch\n",
        "            if print_cost == True and epoch % 100 == 0:\n",
        "                print (\"Cost after epoch %i: %f\" % (epoch, epoch_cost))\n",
        "            if print_cost == True and epoch % 5 == 0:\n",
        "                costs.append(epoch_cost)\n",
        "                \n",
        "        # plot the cost\n",
        "        plt.plot(np.squeeze(costs))\n",
        "        plt.ylabel('cost')\n",
        "        plt.xlabel('iterations (per tens)')\n",
        "        plt.title(\"Learning rate =\" + str(learning_rate))\n",
        "        plt.show()\n",
        "\n",
        "        # lets save the parameters in a variable\n",
        "        parameters = sess.run(parameters)\n",
        "        print (\"Parameters have been trained!\")\n",
        "\n",
        "        # Calculate the correct predictions\n",
        "        correct_prediction = tf.equal(tf.argmax(Z3), tf.argmax(Y))\n",
        "\n",
        "        # Calculate accuracy on the test set\n",
        "        accuracy = tf.reduce_mean(tf.cast(correct_prediction, \"float\"))\n",
        "\n",
        "        print (\"Train Accuracy:\", accuracy.eval({X: X_train, Y: Y_train}))\n",
        "        print (\"Test Accuracy:\", accuracy.eval({X: X_test, Y: Y_test}))\n",
        "        \n",
        "        return parameters"
      ],
      "execution_count": 0,
      "outputs": []
    },
    {
      "metadata": {
        "id": "xSkt4ePA5cvy",
        "colab_type": "code",
        "colab": {
          "base_uri": "https://localhost:8080/",
          "height": 379
        },
        "outputId": "85f6ab84-3316-4774-e6ea-b94067a6ec09"
      },
      "cell_type": "code",
      "source": [
        "parameters = model(X_train_flatten, y_train_onehot, X_test_flatten, y_test_onehot)"
      ],
      "execution_count": 106,
      "outputs": [
        {
          "output_type": "stream",
          "text": [
            "Cost after epoch 0: 0.914693\n",
            "Cost after epoch 100: 0.226118\n"
          ],
          "name": "stdout"
        },
        {
          "output_type": "display_data",
          "data": {
            "image/png": "[encoded data removed]",
            "text/plain": [
              "<matplotlib.figure.Figure at 0x7f53c6efa0b8>"
            ]
          },
          "metadata": {
            "tags": []
          }
        },
        {
          "output_type": "stream",
          "text": [
            "Parameters have been trained!\n",
            "Train Accuracy: 0.94088334\n",
            "Test Accuracy: 0.9266\n"
          ],
          "name": "stdout"
        }
      ]
    }
  ]
}